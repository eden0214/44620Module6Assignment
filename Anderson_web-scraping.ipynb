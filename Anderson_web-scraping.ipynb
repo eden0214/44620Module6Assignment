{
 "cells": [
  {
   "cell_type": "markdown",
   "metadata": {},
   "source": [
    "# Eden Anderson\n",
    "## Module 6 Assignment / 44620"
   ]
  },
  {
   "cell_type": "markdown",
   "metadata": {},
   "source": [
    "GitHub Repository Link"
   ]
  },
  {
   "cell_type": "markdown",
   "metadata": {},
   "source": [
    "# Web Mining and Applied NLP (44-620)\n",
    "\n",
    "## Web Scraping and NLP with Requests, BeautifulSoup, and spaCy\n",
    "\n",
    "### Student Name: Eden Anderson\n",
    "\n",
    "Perform the tasks described in the Markdown cells below.  When you have completed the assignment make sure your code cells have all been run (and have output beneath them) and ensure you have committed and pushed ALL of your changes to your assignment repository.\n",
    "\n",
    "Every question that requires you to write code will have a code cell underneath it; you may either write your entire solution in that cell or write it in a python file (`.py`), then import and run the appropriate code to answer the question."
   ]
  },
  {
   "cell_type": "markdown",
   "metadata": {},
   "source": [
    "# Question 1"
   ]
  },
  {
   "cell_type": "markdown",
   "metadata": {},
   "source": [
    "1. Write code that extracts the article html from https://web.archive.org/web/20210327165005/https://hackaday.com/2021/03/22/how-laser-headlights-work/ and dumps it to a .pkl (or other appropriate file)"
   ]
  },
  {
   "cell_type": "code",
   "execution_count": 1,
   "metadata": {},
   "outputs": [],
   "source": [
    "import requests\n",
    "import pickle\n",
    "\n",
    "article_page = requests.get('https://web.archive.org/web/20210327165005/https://hackaday.com/2021/03/22/how-laser-headlights-work/')\n",
    "article_html = article_page.text\n",
    "\n",
    "\n",
    "with open('module6.pkl', 'wb') as f:\n",
    "    pickle.dump(article_page.text, f)"
   ]
  },
  {
   "cell_type": "markdown",
   "metadata": {},
   "source": [
    "# Question 2"
   ]
  },
  {
   "cell_type": "markdown",
   "metadata": {},
   "source": [
    "2. Read in your article's html source from the file you created in question 1 and print it's text (use `.get_text()`)"
   ]
  },
  {
   "cell_type": "code",
   "execution_count": 2,
   "metadata": {},
   "outputs": [
    {
     "name": "stdout",
     "output_type": "stream",
     "text": [
      "\n",
      "\n",
      "How Laser Headlights Work\n",
      "\n",
      "\n",
      "                130 Comments            \n",
      "\n",
      "by:\n",
      "Lewin Day\n",
      "\n",
      "\n",
      "\n",
      "March 22, 2021\n",
      "\n",
      "\n",
      "\n",
      "\n",
      "\n",
      "\n",
      "\n",
      "\n",
      "When we think about the onward march of automotive technology, headlights aren’t usually the first thing that come to mind. Engines, fuel efficiency, and the switch to electric power are all more front of mind. However, that doesn’t mean there aren’t thousands of engineers around the world working to improve the state of the art in automotive lighting day in, day out.\n",
      "Sealed beam headlights gave way to more modern designs once regulations loosened up, while bulbs moved from simple halogens to xenon HIDs and, more recently, LEDs. Now, a new technology is on the scene, with lasers!\n",
      "\n",
      "Laser Headlights?!\n",
      "BWM’s prototype laser headlight assemblies undergoing testing.\n",
      "The first image brought to mind by the phrase “laser headlights” is that of laser beams firing out the front of an automobile. Obviously, coherent beams of monochromatic light would make for poor illumination outside of a very specific spot quite some distance away. Thankfully for our eyes, laser headlights don’t work in this way at all.\n",
      "Instead, laser headlights consist of one or more solid state laser diodes mounted inside the headlight. These blue lasers are fired at a yellow phosphor, similar to that used in white LEDs. This produces a powerful, vibrant white light that can then be bounced off reflectors and out of the headlights towards the road. Laser headlights built in this way have several benefits. They’re more energy efficient than LEDs that put out the same amount of light, while also being more space efficient, too.\n",
      "BWM’s futuristic i8 was one of the first vehicles to ship with laser headlight technology.\n",
      "Laser headlights are still a nascent technology, thus far only appearing in a few BMW, Audi, and other select vehicles. BMW’s technology was developed in partnership with lighting experts OSRAM. In practice, a regular LED low-beam lamp is used, with the laser used to create an incredibly bright and focused spot, used for high-beams. This can provide illumination out to 600 meters ahead of the vehicle, double that of conventional LED high beams. The lights use indium gallium nitride diode lasers that were originally used in projectors, with power levels above 1 watt. One of the challenges in implementing such technology in an automotive environment is the need for it to operate at temperature extremes. While research lasers and laser pointers may primarily be used at typical room temperatures, automotive headlights must be able to withstand everything from 40 degrees below zero up to 50 degrees C. Thankfully, the laser’s high efficiency means it doesn’t have huge heat output of its own to further complicate things. Other engineering challenges involve tailoring the optics package for the rough-and-tumble, high vibration environment found in the automotive application. It’s also important to ensure, as with any such device, that the end user can’t be exposed to harmful laser radiation in the event of accident or malfunction.\n",
      "Tearing Down the Laser Headlight\n",
      "A marketing image showing the construction of an aftermarket LED/laser headlight. We’d take the laser power with a grain of salt — it’s difficult to imagine a 10 W laser shining directly on some small LEDs without melting a hole through the board in short order.\n",
      "An aftermarket has sprung up too, with delightfully innovative designs. Combined laser/LED headlights are readily available on Alibaba, designed as a drop in replacement for projector lamps on existing vehicles. These often use an LED low-beam, and a combined LED/laser high beam, where the laser diode shoots directly at the LED phosphor to excite it further, rather than using its own. These units often also come with fan cooling to keep the laser and LEDs below their maximum operational temperature. Such developments are exciting, though it’s important to be wary of the performance of unknown aftermarket headlights. Many aftermarket LED headlight “upgrades” fail to pass muster when it comes to real-world performance, and there’s no reason to believe hybrid LED/laser designs will be any different. We’d love to pass a selection of these parts through a full IIHS test protocol, but that’s sadly beyond the scope (and budget!) of this article.\n",
      "However, [mikeselectricstuff] has happened to lay his hands on both the BMW and aftermarket parts, tearing them all down in his workshop to see what makes them tick. The differences are multitude when laid bare on the bench. The AliExpress part is relatively simple, wired up no differently from a regular headlight. Interestingly, however, the laser high-beam circuit runs all the time in these parts. To prevent blinding other road users, a shutter is kept in place to block the light, which is moved out of the way with a solenoid when the driver turns on the high beam switch.\n",
      "Where the aftermarket part is a little out of left field, the BMW design is another thing entirely. The cutting-edge headlights are hooked up with multiple connectors and over 30 conductors, with much of the driver electronics living in an external controller. Much of this is to drive the various LEDs and stepper motors for slewing the headlights when steering. However, the laser assembly brings its own complexities. Twin light sensors are built inside to monitor the laser beam, and a special metal blocking arm sits directly in front of the diode, presumably to stop the laser light leaving the headlight in the event the phosphor coating burns through. It’s truly wild to get a look inside a modern luxury car’s headlight and see just how far we’ve come from the old days of simple sealed beams.\n",
      "Cost Versus Performance\n",
      "Despite the efficiency gains available, the technology remains expensive. Powerful laser diodes don’t come cheap, after all. However, as the technology trickles down to lower-end models, it’s likely that we could see economies of scale change that for the better. Indeed, if national authorities begin to demand higher performance headlights as standard, we could see laser headlights become the norm, rather than an expensive luxury. The technology could naturally be applied to home and commercial lighting, too — though we suspect the potential gains are limited enough that LED lighting will remain the norm for some time to come.\n",
      "The high light output of laser headlights in a compact package allows engineers greater freedom when designing the front-end of a car.\n",
      "As it currently stands, much of the appeal of the new technology is about the packaging benefits, which allow automotive designers greater freedom around the headlight area. Such concerns are less of a factor when it comes to light fittings in the home or office, or indeed, on lower-end automobiles. Regardless, it’s an exciting new application for lasers and one we’ll be sure to see more of in the future.\n",
      " \n",
      "\n",
      "\n",
      "\n",
      "\n",
      " \n",
      "\n",
      "\n",
      "\n",
      "\n",
      "\n",
      "\n",
      "\n",
      "\n",
      "\n",
      "\n",
      "\n",
      "\n",
      "\n",
      "\n",
      "\n",
      "\n",
      "\n",
      "\n",
      "\n",
      "Posted in car hacks, Engineering, Featured, Laser Hacks, SliderTagged laser, laser headlight, laser headlights, light \n",
      "\n"
     ]
    }
   ],
   "source": [
    "from bs4 import BeautifulSoup\n",
    "\n",
    "parser = 'html.parser'\n",
    "\n",
    "with open('module6.pkl', 'rb') as f:\n",
    "    module6_html = pickle.load(f)\n",
    "soup = BeautifulSoup(module6_html, parser)\n",
    "module6_element = soup.find('article')\n",
    "print(module6_element.get_text())"
   ]
  },
  {
   "cell_type": "markdown",
   "metadata": {},
   "source": [
    "# Question 3"
   ]
  },
  {
   "cell_type": "markdown",
   "metadata": {},
   "source": [
    "3. Load the article text into a trained `spaCy` pipeline, and determine the 5 most frequent tokens (converted to lower case).  Print the common tokens with an appropriate label.  Additionally, print the tokens their frequencies (with appropriate labels). Make sure to remove things we don't care about (punctuation, stopwords, whitespace)."
   ]
  },
  {
   "cell_type": "code",
   "execution_count": 3,
   "metadata": {},
   "outputs": [
    {
     "name": "stdout",
     "output_type": "stream",
     "text": [
      "The top 5 most frequent tokens and their frequencies are:  [('laser', 35), ('headlights', 19), ('headlight', 11), ('technology', 10), ('led', 10)]\n"
     ]
    }
   ],
   "source": [
    "import spacy\n",
    "from spacytextblob.spacytextblob import SpacyTextBlob\n",
    "from collections import Counter\n",
    "nlp = spacy.load('en_core_web_sm')\n",
    "doc = nlp(module6_element.get_text())\n",
    "non_ws_tokens = []\n",
    "for token in doc:\n",
    "    if not token.is_space:\n",
    "        non_ws_tokens.append(token)\n",
    "\n",
    "def module6_words(token):\n",
    "    return not (token.is_space or token.is_punct or token.is_stop)\n",
    "\n",
    "interesting_tokens = [token.text.lower() for token in doc if module6_words(token)]\n",
    "\n",
    "word_freq = Counter(map(str,interesting_tokens))\n",
    "print('The top 5 most frequent tokens and their frequencies are: ', word_freq.most_common(5))"
   ]
  },
  {
   "cell_type": "markdown",
   "metadata": {},
   "source": [
    "# Question 4"
   ]
  },
  {
   "cell_type": "markdown",
   "metadata": {},
   "source": [
    "4. Load the article text into a trained `spaCy` pipeline, and determine the 5 most frequent lemmas (converted to lower case).  Print the common lemmas with an appropriate label.  Additionally, print the lemmas with their frequencies (with appropriate labels). Make sure to remove things we don't care about (punctuation, stopwords, whitespace)."
   ]
  },
  {
   "cell_type": "code",
   "execution_count": 4,
   "metadata": {},
   "outputs": [
    {
     "name": "stdout",
     "output_type": "stream",
     "text": [
      "The top 5 most frequent lemmas and their frequencies are:  [('laser', 40), ('headlight', 28), ('beam', 12), ('led', 11), ('technology', 10)]\n"
     ]
    }
   ],
   "source": [
    "module6_lemmas = [token.lemma_.lower() for token in doc if module6_words(token)]\n",
    "lemma_freq = Counter(module6_lemmas)\n",
    "print('The top 5 most frequent lemmas and their frequencies are: ', lemma_freq.most_common(5))"
   ]
  },
  {
   "cell_type": "markdown",
   "metadata": {},
   "source": [
    "# Question 5"
   ]
  },
  {
   "cell_type": "markdown",
   "metadata": {},
   "source": [
    "5. Define the following methods:\n",
    "    * `score_sentence_by_token(sentence, interesting_token)` that takes a sentence and a list of interesting token and returns the number of times that any of the interesting words appear in the sentence divided by the number of words in the sentence\n",
    "    * `score_sentence_by_lemma(sentence, interesting_lemmas)` that takes a sentence and a list of interesting lemmas and returns the number of times that any of the interesting lemmas appear in the sentence divided by the number of words in the sentence\n",
    "    \n",
    "You may find some of the code from the in class notes useful; feel free to use methods (rewrite them in this cell as well).  Test them by showing the score of the first sentence in your article using the frequent tokens and frequent lemmas identified in question 3."
   ]
  },
  {
   "cell_type": "code",
   "execution_count": 5,
   "metadata": {},
   "outputs": [
    {
     "name": "stdout",
     "output_type": "stream",
     "text": [
      "\n",
      "When we think about the onward march of automotive technology, headlights aren’t usually the first thing that come to mind.\n",
      "Output: score_sentence_by_token:  2 / 21 = 0.09523809523809523\n"
     ]
    },
    {
     "data": {
      "text/plain": [
       "(2, 21, 0.09523809523809523)"
      ]
     },
     "execution_count": 5,
     "metadata": {},
     "output_type": "execute_result"
    }
   ],
   "source": [
    "interesting_token = set()\n",
    "for token, freq in word_freq.most_common(5):\n",
    "    interesting_token.add(token)\n",
    "\n",
    "sentences = list(doc.sents) \n",
    "top_tokens = ['laser', 'headlights', 'technology', 'headlight', 'led']\n",
    "top_lemmas = ['laser', 'headlight', 'beam', 'technology', 'light']\n",
    "\n",
    "len(sentences)\n",
    "\n",
    "def wordcount(sent):\n",
    "    count = 0\n",
    "    for token in sent:\n",
    "        if not(token.is_space or token.is_punct):\n",
    "            count += 1\n",
    "    return count\n",
    "print()\n",
    "\n",
    "def score_sentence_by_token(sentence, interesting_token):\n",
    "    total = wordcount(sentence)\n",
    "    for i in range(len(sentences)):\n",
    "        sentence = sentences[i]\n",
    "    for sentence in sentences:\n",
    "        count = 0\n",
    "        for token in sentence:\n",
    "            if token.text.lower() in interesting_token:\n",
    "                count += 1\n",
    "        print('Output: score_sentence_by_token: ',count,'/',total,'=', count/total)\n",
    "        return count, total, count/total\n",
    "\n",
    "chosen_sentence = sentences[1]\n",
    "print(chosen_sentence)\n",
    "score_sentence_by_token(chosen_sentence, interesting_token)\n",
    "\n"
   ]
  },
  {
   "cell_type": "markdown",
   "metadata": {},
   "source": [
    "### Question 7 Answer\n",
    "From your histogram, what seems to be the most common range of scores:\n",
    "Similarly to the scores with tokens, the most common range of scores with lemmas is between 0.05 through 0.15, as there were over 45 within it."
   ]
  },
  {
   "cell_type": "code",
   "execution_count": 6,
   "metadata": {},
   "outputs": [
    {
     "name": "stdout",
     "output_type": "stream",
     "text": [
      "When we think about the onward march of automotive technology, headlights aren’t usually the first thing that come to mind.\n",
      "Output: score_sentence_by_lemma:  2 / 21 = 0.09523809523809523\n"
     ]
    },
    {
     "data": {
      "text/plain": [
       "(2, 21, 0.09523809523809523)"
      ]
     },
     "execution_count": 6,
     "metadata": {},
     "output_type": "execute_result"
    }
   ],
   "source": [
    "# Same process but with lemmas\n",
    "\n",
    "interesting_lemma = set()\n",
    "for lemma, freq in word_freq.most_common(5):\n",
    "    interesting_lemma.add(lemma)\n",
    "\n",
    "def score_sentence_by_lemma(sentence, interesting_lemma):\n",
    "    total = wordcount(sentence)\n",
    "    for i in range(len(sentences)):\n",
    "        sentence = sentences[i]\n",
    "    for sentence in sentences:\n",
    "        count = 0\n",
    "        for token in sentence:\n",
    "            if token.lemma_.lower() in interesting_lemma:\n",
    "                count += 1\n",
    "        print('Output: score_sentence_by_lemma: ',count,'/',total,'=', count/total)\n",
    "        return count, total, count/total\n",
    "\n",
    "chosen_sentence = sentences[1]\n",
    "print(chosen_sentence)\n",
    "score_sentence_by_lemma(chosen_sentence, interesting_lemma)"
   ]
  },
  {
   "cell_type": "markdown",
   "metadata": {},
   "source": [
    "# Question 6"
   ]
  },
  {
   "cell_type": "markdown",
   "metadata": {},
   "source": [
    "6. Make a list containing the scores (using tokens) of every sentence in the article, and plot a histogram with appropriate titles and axis labels of the scores. From your histogram, what seems to be the most common range of scores (put the answer in a comment after your code)?"
   ]
  },
  {
   "cell_type": "code",
   "execution_count": 7,
   "metadata": {},
   "outputs": [
    {
     "data": {
      "text/plain": [
       "Text(0.5, 1.0, 'Frequency of Sentence Scores (Tokens)')"
      ]
     },
     "execution_count": 7,
     "metadata": {},
     "output_type": "execute_result"
    },
    {
     "data": {
      "image/png": "[encoded data removed]",
      "text/plain": [
       "<Figure size 432x288 with 1 Axes>"
      ]
     },
     "metadata": {
      "needs_background": "light"
     },
     "output_type": "display_data"
    }
   ],
   "source": [
    "from matplotlib import pyplot as plt\n",
    "\n",
    "interesting_token = set()\n",
    "for token, freq in word_freq.most_common(5):\n",
    "    interesting_token.add(token)\n",
    "\n",
    "sentences = list(doc.sents) \n",
    "top_tokens = ['laser', 'headlights', 'technology', 'headlight', 'led']\n",
    "\n",
    "def score_token(sentence, interesting_token):\n",
    "    total = wordcount(sentence)\n",
    "    for i in range(len(sentences)):\n",
    "        sentence = sentences[i]\n",
    "    for sentence in sentences:\n",
    "        count = 0\n",
    "        for token in sentence:\n",
    "            if token.text.lower() in interesting_token:\n",
    "                count += 1\n",
    "        return count/total\n",
    "    \n",
    "S1 = sentences[0]\n",
    "f1 = score_token(S1, interesting_token)\n",
    "S2 = sentences[1]\n",
    "f2 = score_token(S2, interesting_token)               \n",
    "S3 = sentences[2]\n",
    "f3 = score_token(S3, interesting_token)               \n",
    "S4 = sentences[3]\n",
    "f4 = score_token(S4, interesting_token)\n",
    "S5 = sentences[4]\n",
    "f5 = score_token(S5, interesting_token)\n",
    "S6 = sentences[5]\n",
    "f6 = score_token(S6, interesting_token)\n",
    "S7 = sentences[6]\n",
    "f7 = score_token(S7, interesting_token)\n",
    "S8 = sentences[7]\n",
    "f8 = score_token(S8, interesting_token)\n",
    "S9 = sentences[8]\n",
    "f9 = score_token(S9, interesting_token)\n",
    "S10 = sentences[9]\n",
    "f10 = score_token(S10, interesting_token)\n",
    "S11 = sentences[10]\n",
    "f11 = score_token(S11, interesting_token)\n",
    "S12 = sentences[11]\n",
    "f12 = score_token(S12, interesting_token)\n",
    "S13 = sentences[12]\n",
    "f13 = score_token(S13, interesting_token)\n",
    "S14 = sentences[13]\n",
    "f14 = score_token(S14, interesting_token)\n",
    "S15 = sentences[14]\n",
    "f15 = score_token(S15, interesting_token)\n",
    "S16 = sentences[15]\n",
    "f16 = score_token(S16, interesting_token)\n",
    "S17 = sentences[17]\n",
    "f17 = score_token(S17, interesting_token)\n",
    "S18 = sentences[18]\n",
    "f18 = score_token(S18, interesting_token)\n",
    "S19 = sentences[19]\n",
    "f19 = score_token(S19, interesting_token)\n",
    "S20 = sentences[20]\n",
    "f20 = score_token(S20, interesting_token)\n",
    "S21 = sentences[21]\n",
    "f21 = score_token(S21, interesting_token)\n",
    "S22 = sentences[22]\n",
    "f22 = score_token(S22, interesting_token)\n",
    "S23 = sentences[23]\n",
    "f23 = score_token(S23, interesting_token)\n",
    "S24 = sentences[24]\n",
    "f24 = score_token(S24, interesting_token)\n",
    "S25 = sentences[25]\n",
    "f25 = score_token(S25, interesting_token)\n",
    "S26 = sentences[26]\n",
    "f26 = score_token(S26, interesting_token)\n",
    "S27 = sentences[27]\n",
    "f27 = score_token(S27, interesting_token)\n",
    "S28 = sentences[28]\n",
    "f28 = score_token(S28, interesting_token)\n",
    "S29 = sentences[29]\n",
    "f29 = score_token(S29, interesting_token)\n",
    "S30 = sentences[30]\n",
    "f30 = score_token(S30, interesting_token)\n",
    "S31 = sentences[31]\n",
    "f31 = score_token(S31, interesting_token)\n",
    "S32 = sentences[32]\n",
    "f32 = score_token(S32, interesting_token)\n",
    "S33 = sentences[33]\n",
    "f33 = score_token(S33, interesting_token)\n",
    "S34 = sentences[34]\n",
    "f34 = score_token(S34, interesting_token)\n",
    "S35 = sentences[35]\n",
    "f35 = score_token(S35, interesting_token)\n",
    "S36 = sentences[36]\n",
    "f36 = score_token(S36, interesting_token)\n",
    "S37 = sentences[37]\n",
    "f37 = score_token(S37, interesting_token)\n",
    "S38 = sentences[38]\n",
    "f38 = score_token(S38, interesting_token)\n",
    "S39 = sentences[39]\n",
    "f39 = score_token(S39, interesting_token)\n",
    "S40 = sentences[40]\n",
    "f40 = score_token(S40, interesting_token)\n",
    "S41 = sentences[41]\n",
    "f41 = score_token(S41, interesting_token)\n",
    "S42 = sentences[42]\n",
    "f42 = score_token(S42, interesting_token)\n",
    "S43 = sentences[43]\n",
    "f43 = score_token(S43, interesting_token)\n",
    "S44 = sentences[44]\n",
    "f44 = score_token(S44, interesting_token)\n",
    "S45 = sentences[45]\n",
    "f45 = score_token(S45, interesting_token)\n",
    "S46 = sentences[45]\n",
    "f46 = score_token(S46, interesting_token)\n",
    "S47 = sentences[47]\n",
    "f47 = score_token(S47, interesting_token)\n",
    "S48 = sentences[48]\n",
    "f48 = score_token(S48, interesting_token)\n",
    "S49 = sentences[49]\n",
    "f49 = score_token(S49, interesting_token)\n",
    "S50 = sentences[50]\n",
    "f50 = score_token(S50, interesting_token)\n",
    "S51 = sentences[51]\n",
    "f51 = score_token(S51, interesting_token)\n",
    "S52 = sentences[52]\n",
    "f52 = score_token(S52, interesting_token)\n",
    "S53 = sentences[53]\n",
    "f53 = score_token(S53, interesting_token)\n",
    "S54 = sentences[54]\n",
    "f54 = score_token(S54, interesting_token)\n",
    "S55 = sentences[55]\n",
    "f55 = score_token(S55, interesting_token)\n",
    "S56 = sentences[56]\n",
    "f56 = score_token(S56, interesting_token)\n",
    "S57 = sentences[16]\n",
    "f57 = score_token(S16, interesting_token)\n",
    "\n",
    "token_list = [f1,f2,f3,f4,f5,f6,f7,f8,f9,f10,f11,f12,f13,f14,f15,f16,f17,f18,f19,f20,\n",
    "              f21,f22,f23,f24,f25,f26,f27,f28,f29,f30,f31,f32,f33,f34,f35,f36,f37,f38,\n",
    "              f39,f40,f41,f42,f43,f44,f45,f46,f47,f48,f49,f50,f51,f52,f53,f54,f55,f56,f57]\n",
    "\n",
    "x = token_list\n",
    "plt.hist(x)\n",
    "plt.xlabel('Sentence Scores')\n",
    "plt.ylabel('Frequency of Score')\n",
    "plt.title(\"Frequency of Sentence Scores (Tokens)\")"
   ]
  },
  {
   "cell_type": "markdown",
   "metadata": {},
   "source": [
    "### Question 6 Answer\n",
    "From your histogram, what seems to be the most common range of scores:\n",
    "The most common range of scores is between 0.05 through 0.15, as there were over 45 within it."
   ]
  },
  {
   "cell_type": "markdown",
   "metadata": {},
   "source": [
    "# Question 7"
   ]
  },
  {
   "cell_type": "markdown",
   "metadata": {},
   "source": [
    "7. Make a list containing the scores (using lemmas) of every sentence in the article, and plot a histogram with appropriate titles and axis labels of the scores.  From your histogram, what seems to be the most common range of scores (put the answer in a comment after your code)?"
   ]
  },
  {
   "cell_type": "code",
   "execution_count": 8,
   "metadata": {},
   "outputs": [
    {
     "data": {
      "text/plain": [
       "Text(0.5, 1.0, 'Frequency of Sentence Scores (Lemmas)')"
      ]
     },
     "execution_count": 8,
     "metadata": {},
     "output_type": "execute_result"
    },
    {
     "data": {
      "image/png": "[encoded data removed]",
      "text/plain": [
       "<Figure size 432x288 with 1 Axes>"
      ]
     },
     "metadata": {
      "needs_background": "light"
     },
     "output_type": "display_data"
    }
   ],
   "source": [
    "interesting_lemma = set()\n",
    "for lemma, freq in word_freq.most_common(5):\n",
    "    interesting_lemma.add(lemma)\n",
    "\n",
    "sentences = list(doc.sents) \n",
    "top_lemmas = ['laser', 'headlight', 'beam', 'technology', 'light']\n",
    "\n",
    "def score_lemma(sentence, interesting_lemma):\n",
    "    total = wordcount(sentence)\n",
    "    for i in range(len(sentences)):\n",
    "        sentence = sentences[i]\n",
    "    for sentence in sentences:\n",
    "        count = 0\n",
    "        for token in sentence:\n",
    "            if token.lemma_.lower() in interesting_lemma:\n",
    "                count += 1\n",
    "        return count/total\n",
    "    \n",
    "S1 = sentences[0]\n",
    "f1 = score_lemma(S1, interesting_lemma)\n",
    "S2 = sentences[1]\n",
    "f2 = score_lemma(S2, interesting_lemma)               \n",
    "S3 = sentences[2]\n",
    "f3 = score_lemma(S3, interesting_lemma)               \n",
    "S4 = sentences[3]\n",
    "f4 = score_lemma(S4, interesting_lemma)\n",
    "S5 = sentences[4]\n",
    "f5 = score_lemma(S5, interesting_lemma)\n",
    "S6 = sentences[5]\n",
    "f6 = score_lemma(S6, interesting_lemma)\n",
    "S7 = sentences[6]\n",
    "f7 = score_lemma(S7, interesting_lemma)\n",
    "S8 = sentences[7]\n",
    "f8 = score_lemma(S8, interesting_lemma)\n",
    "S9 = sentences[8]\n",
    "f9 = score_lemma(S9, interesting_lemma)\n",
    "S10 = sentences[9]\n",
    "f10 = score_lemma(S10, interesting_lemma)\n",
    "S11 = sentences[10]\n",
    "f11 = score_lemma(S11, interesting_lemma)\n",
    "S12 = sentences[11]\n",
    "f12 = score_lemma(S12, interesting_lemma)\n",
    "S13 = sentences[12]\n",
    "f13 = score_lemma(S13, interesting_lemma)\n",
    "S14 = sentences[13]\n",
    "f14 = score_lemma(S14, interesting_lemma)\n",
    "S15 = sentences[14]\n",
    "f15 = score_lemma(S15, interesting_lemma)\n",
    "S16 = sentences[15]\n",
    "f16 = score_lemma(S16, interesting_lemma)\n",
    "S17 = sentences[17]\n",
    "f17 = score_lemma(S17, interesting_lemma)\n",
    "S18 = sentences[18]\n",
    "f18 = score_lemma(S18, interesting_lemma)\n",
    "S19 = sentences[19]\n",
    "f19 = score_lemma(S19, interesting_lemma)\n",
    "S20 = sentences[20]\n",
    "f20 = score_lemma(S20, interesting_lemma)\n",
    "S21 = sentences[21]\n",
    "f21 = score_lemma(S21, interesting_lemma)\n",
    "S22 = sentences[22]\n",
    "f22 = score_lemma(S22, interesting_lemma)\n",
    "S23 = sentences[23]\n",
    "f23 = score_lemma(S23, interesting_lemma)\n",
    "S24 = sentences[24]\n",
    "f24 = score_lemma(S24, interesting_lemma)\n",
    "S25 = sentences[25]\n",
    "f25 = score_lemma(S25, interesting_lemma)\n",
    "S26 = sentences[26]\n",
    "f26 = score_lemma(S26, interesting_lemma)\n",
    "S27 = sentences[27]\n",
    "f27 = score_lemma(S27, interesting_lemma)\n",
    "S28 = sentences[28]\n",
    "f28 = score_lemma(S28, interesting_lemma)\n",
    "S29 = sentences[29]\n",
    "f29 = score_lemma(S29, interesting_lemma)\n",
    "S30 = sentences[30]\n",
    "f30 = score_lemma(S30, interesting_lemma)\n",
    "S31 = sentences[31]\n",
    "f31 = score_lemma(S31, interesting_lemma)\n",
    "S32 = sentences[32]\n",
    "f32 = score_lemma(S32, interesting_lemma)\n",
    "S33 = sentences[33]\n",
    "f33 = score_lemma(S33, interesting_lemma)\n",
    "S34 = sentences[34]\n",
    "f34 = score_lemma(S34, interesting_lemma)\n",
    "S35 = sentences[35]\n",
    "f35 = score_lemma(S35, interesting_lemma)\n",
    "S36 = sentences[36]\n",
    "f36 = score_lemma(S36, interesting_lemma)\n",
    "S37 = sentences[37]\n",
    "f37 = score_lemma(S37, interesting_lemma)\n",
    "S38 = sentences[38]\n",
    "f38 = score_lemma(S38, interesting_lemma)\n",
    "S39 = sentences[39]\n",
    "f39 = score_lemma(S39, interesting_lemma)\n",
    "S40 = sentences[40]\n",
    "f40 = score_lemma(S40, interesting_lemma)\n",
    "S41 = sentences[41]\n",
    "f41 = score_lemma(S41, interesting_lemma)\n",
    "S42 = sentences[42]\n",
    "f42 = score_lemma(S42, interesting_lemma)\n",
    "S43 = sentences[43]\n",
    "f43 = score_lemma(S43, interesting_lemma)\n",
    "S44 = sentences[44]\n",
    "f44 = score_lemma(S44, interesting_lemma)\n",
    "S45 = sentences[45]\n",
    "f45 = score_lemma(S45, interesting_lemma)\n",
    "S46 = sentences[45]\n",
    "f46 = score_lemma(S46, interesting_lemma)\n",
    "S47 = sentences[47]\n",
    "f47 = score_lemma(S47, interesting_lemma)\n",
    "S48 = sentences[48]\n",
    "f48 = score_lemma(S48, interesting_lemma)\n",
    "S49 = sentences[49]\n",
    "f49 = score_lemma(S49, interesting_lemma)\n",
    "S50 = sentences[50]\n",
    "f50 = score_lemma(S50, interesting_lemma)\n",
    "S51 = sentences[51]\n",
    "f51 = score_lemma(S51, interesting_lemma)\n",
    "S52 = sentences[52]\n",
    "f52 = score_lemma(S52, interesting_lemma)\n",
    "S53 = sentences[53]\n",
    "f53 = score_lemma(S53, interesting_lemma)\n",
    "S54 = sentences[54]\n",
    "f54 = score_lemma(S54, interesting_lemma)\n",
    "S55 = sentences[55]\n",
    "f55 = score_lemma(S55, interesting_lemma)\n",
    "S56 = sentences[56]\n",
    "f56 = score_lemma(S56, interesting_lemma)\n",
    "S57 = sentences[16]\n",
    "f57 = score_lemma(S16, interesting_lemma)\n",
    "\n",
    "lemma_list = [f1,f2,f3,f4,f5,f6,f7,f8,f9,f10,f11,f12,f13,f14,f15,f16,f17,f18,f19,f20,\n",
    "              f21,f22,f23,f24,f25,f26,f27,f28,f29,f30,f31,f32,f33,f34,f35,f36,f37,f38,\n",
    "              f39,f40,f41,f42,f43,f44,f45,f46,f47,f48,f49,f50,f51,f52,f53,f54,f55,f56,f57]\n",
    "\n",
    "x = lemma_list\n",
    "plt.hist(x)\n",
    "plt.xlabel('Sentence Scores')\n",
    "plt.ylabel('Frequency of Score')\n",
    "plt.title(\"Frequency of Sentence Scores (Lemmas)\")"
   ]
  },
  {
   "cell_type": "markdown",
   "metadata": {},
   "source": [
    "### Question 7 Answer\n",
    "From your histogram, what seems to be the most common range of scores:\n",
    "Similarly to the scores with tokens, the most common range of scores with lemmas is between 0.05 through 0.15, as there were over 45 within it."
   ]
  },
  {
   "cell_type": "markdown",
   "metadata": {},
   "source": [
    "# Question 8"
   ]
  },
  {
   "cell_type": "markdown",
   "metadata": {},
   "source": [
    "8. Which tokens and lexems would be ommitted from the lists generated in questions 3 and 4 if we only wanted to consider nouns as interesting words?  How might we change the code to only consider nouns? Put your answer in this Markdown cell (you can edit it by double clicking it)."
   ]
  },
  {
   "cell_type": "markdown",
   "metadata": {},
   "source": [
    "### Question 8 Answer\n",
    "In Question 3, if we only considered nouns, \"led\" would be removed - leaving laser, headlights, headlight, and technology.\n",
    "\n",
    "In Question 4, if we only considered nouns, again, \"led\" would be removed - leaving laser, headlight, beam, and technology.\n",
    "\n",
    "To change the code to consider only nouns, we would need to add lines that would choose only nouns, like the following 2 lines:\n",
    "\n",
    "for noun_chunk in doc.noun_chunks: \n",
    "\n",
    "    print(noun_chunk.text)\n",
    "\n",
    "(There are several different ways to code the noun position in spacy, as I found in my searches to understand this answer.  I chose one of them.)"
   ]
  },
  {
   "cell_type": "code",
   "execution_count": null,
   "metadata": {},
   "outputs": [],
   "source": []
  }
 ],
 "metadata": {
  "kernelspec": {
   "display_name": "Python 3 (ipykernel)",
   "language": "python",
   "name": "python3"
  },
  "language_info": {
   "codemirror_mode": {
    "name": "ipython",
    "version": 3
   },
   "file_extension": ".py",
   "mimetype": "text/x-python",
   "name": "python",
   "nbconvert_exporter": "python",
   "pygments_lexer": "ipython3",
   "version": "3.8.13"
  }
 },
 "nbformat": 4,
 "nbformat_minor": 4
}
